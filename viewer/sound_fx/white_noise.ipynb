{
 "cells": [
  {
   "cell_type": "code",
   "execution_count": 3,
   "metadata": {},
   "outputs": [],
   "source": [
    "import numpy as np\n",
    "import matplotlib.pyplot as plt\n",
    "from scipy import signal\n",
    "from scipy.io.wavfile import write"
   ]
  },
  {
   "cell_type": "code",
   "execution_count": 7,
   "metadata": {},
   "outputs": [],
   "source": [
    "\n",
    "# Define parameters\n",
    "duration = 3  # 1 second\n",
    "sampling_rate = 48000  # 48kHz\n",
    "n_samples = duration * sampling_rate\n",
    "\n",
    "# Generate white noise\n",
    "white_noise = np.random.uniform(low=-1.0, high=1.0, size=n_samples)\n",
    "sweep_times_x = np.concatenate((np.zeros(20),white_noise,np.zeros(20)))\n",
    "\n",
    "# Normalize to 16-bit PCM range\n",
    "white_noise = np.int16(white_noise * 32767)\n",
    "\n",
    "# Save the white noise as a WAV file\n",
    "file_path = 'white_noise_48kHz_3second.wav'\n",
    "write(file_path, sampling_rate, white_noise)"
   ]
  }
 ],
 "metadata": {
  "kernelspec": {
   "display_name": "hl2ss",
   "language": "python",
   "name": "python3"
  },
  "language_info": {
   "codemirror_mode": {
    "name": "ipython",
    "version": 3
   },
   "file_extension": ".py",
   "mimetype": "text/x-python",
   "name": "python",
   "nbconvert_exporter": "python",
   "pygments_lexer": "ipython3",
   "version": "3.9.19"
  }
 },
 "nbformat": 4,
 "nbformat_minor": 2
}
