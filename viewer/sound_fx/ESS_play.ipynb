{
 "cells": [
  {
   "cell_type": "markdown",
   "metadata": {},
   "source": [
    "# Validation Dataset ESS generation and deconvolution\n",
    "\n",
    "This notebook was used to create the office's responses to Exponential Sine Sweeps. An ESS is created, with 1% off the beginning and the end tapered. It is then made to play after 4 seconds 10 times in a row separated by 1 second. It can be played directly from the notebook or as a _.wav_ file.\n",
    "\n",
    "Once played, recording of the sweeps was performed independantely on the HoloLens2 using a ROS script. (See AV-SUARA repository).\n",
    "\n",
    "We then create a time-inversed and exponentially decreasing ESS, which can be convolved with any version of the original ESS to create a dirac. Any echoes recorded by a microphone will appear as diracs, and so we've obtained our Room Impulse Response."
   ]
  },
  {
   "cell_type": "markdown",
   "metadata": {},
   "source": [
    "## ESS"
   ]
  },
  {
   "cell_type": "markdown",
   "metadata": {},
   "source": [
    "### ESS Implementation taken from [mattberjon](https://gist.github.com/mattberjon/b0886a1c8a9bd512e84942f088a6410f)."
   ]
  },
  {
   "cell_type": "markdown",
   "metadata": {},
   "source": [
    "This code is equivalent (- operation inaccuracies >:( ...) to this [much simpler implementation I found online](https://dsp.stackexchange.com/questions/41696/calculating-the-inverse-filter-for-the-exponential-sine-sweep-method \"Simple implementation on stackexchange\"). This is the implementation I used to create the sweeps I used to record the RIRs for my validation dataset."
   ]
  },
  {
   "cell_type": "code",
   "execution_count": null,
   "metadata": {},
   "outputs": [],
   "source": [
    "import numpy as np\n",
    "import matplotlib.pyplot as plt\n",
    "from scipy import signal\n",
    "\n",
    "\"\"\" Corresponds to an exponential sine sweep as described by Farina in his paper \n",
    "Simultaneous measurement of impulse response and distortion with a swept-sine technique, 2000.\n",
    "\"\"\"\n",
    "\n",
    "# Parameters\n",
    "amp = 0.5 \n",
    "f1 = 100.\n",
    "f2 = 20000.\n",
    "N = 17. \n",
    "fs = 48000.\n",
    "\n",
    "# Generate sweep\n",
    "T = (2**N) / fs # 2.73066 Duration of sweep.\n",
    "w1 = 2 * np.pi * f1\n",
    "w2 = 2 * np.pi * f2\n",
    "K = T * w1 / np.log(w2 / w1)\n",
    "L = T / np.log(w2 / w1)\n",
    "t = np.linspace(0, T - 1 / fs, int(fs * T))\n",
    "sweep = amp * np.sin(K * (np.exp(t / L) - 1))"
   ]
  },
  {
   "cell_type": "markdown",
   "metadata": {},
   "source": [
    "### Taper ESS"
   ]
  },
  {
   "cell_type": "code",
   "execution_count": null,
   "metadata": {},
   "outputs": [],
   "source": [
    "# Define the percentage of the signal to taper (e.g., 1% of the signal length)\n",
    "taper_percent = 0.01\n",
    "\n",
    "# Calculate the length of the taper window\n",
    "taper_length = int(len(sweep) * taper_percent / 2)\n",
    "\n",
    "# Create a short Hanning window for tapering\n",
    "short_window = np.hanning(2 * taper_length)\n",
    "\n",
    "# Apply the taper to the beginning and end of the signal\n",
    "tapered_sweep = np.copy(sweep)\n",
    "tapered_sweep[:taper_length] *= short_window[:taper_length]\n",
    "tapered_sweep[-taper_length:] *= short_window[-taper_length:]\n",
    "\n",
    "tapered_sweep, taper_length  # Display the tapered signal and the length of the tapering window"
   ]
  },
  {
   "cell_type": "markdown",
   "metadata": {},
   "source": [
    "### Show ESS"
   ]
  },
  {
   "cell_type": "code",
   "execution_count": null,
   "metadata": {},
   "outputs": [],
   "source": [
    "from functools import partial\n",
    "plt.figure()\n",
    "plt.plot(tapered_sweep[:30000])\n",
    "plt.title('Exponential Sine Sweep')\n",
    "plt.xlabel('Time [s]')\n",
    "# plt.xscale('log')\n",
    "plt.ylabel('Amplitude')\n",
    "plt.grid(True)\n",
    "plt.show()"
   ]
  },
  {
   "cell_type": "code",
   "execution_count": null,
   "metadata": {},
   "outputs": [],
   "source": [
    "plt.figure()\n",
    "f_sweep, t_sweep, Sxx_sweep = signal.spectrogram(tapered_sweep, fs)\n",
    "plt.pcolormesh(t_sweep, f_sweep, Sxx_sweep)\n",
    "plt.ylabel('Frequency [Hz]')\n",
    "plt.xlabel('Time [s]')\n",
    "plt.title('Spectrogram of the Exponential Sine Sweep')\n",
    "# plt.yscale('log')\n",
    "plt.ylim([0, 20000])\n",
    "plt.colorbar(label='Intensity [dB]')\n",
    "plt.grid(True)\n",
    "plt.show()\n"
   ]
  },
  {
   "cell_type": "markdown",
   "metadata": {},
   "source": [
    "## 10x ESS, playback"
   ]
  },
  {
   "cell_type": "code",
   "execution_count": null,
   "metadata": {},
   "outputs": [],
   "source": [
    "sweep_times_x = tapered_sweep\n",
    "fs_int=int(fs)\n",
    "one_second_of_silence=np.zeros(fs_int*2)\n",
    "# Add 4 seconds of silence\n",
    "# for i in range(4):\n",
    "#     sweep_times_x = np.concatenate((one_second_of_silence,sweep_times_x))\n",
    "# Add 5 seconds xtra sweeps\n",
    "for i in range(4):\n",
    "    sweep_times_x = np.concatenate((sweep_times_x,one_second_of_silence))\n",
    "    sweep_times_x = np.concatenate((sweep_times_x,tapered_sweep))\n",
    "# 1 xtra second of silence\n",
    "sweep_times_x = np.concatenate((sweep_times_x,one_second_of_silence))\n",
    "# xtra zeros\n",
    "sweep_times_x = np.concatenate((np.zeros(20),sweep_times_x,np.zeros(20)))"
   ]
  },
  {
   "cell_type": "markdown",
   "metadata": {},
   "source": [
    "### Write ESS"
   ]
  },
  {
   "cell_type": "markdown",
   "metadata": {},
   "source": [
    "Write sweep as wav file."
   ]
  },
  {
   "cell_type": "code",
   "execution_count": null,
   "metadata": {},
   "outputs": [],
   "source": [
    "from scipy.io.wavfile import write\n",
    "\n",
    "to_save = sweep_times_x\n",
    "\n",
    "# Scale the sweep to 16-bit integers\n",
    "sweep_int = np.int16(to_save / np.max(np.abs(to_save)) * 32767)\n",
    "\n",
    "# Save the sweep as a WAV file\n",
    "write('ESS_x5_2second_pause.wav', int(fs), sweep_int)"
   ]
  },
  {
   "cell_type": "markdown",
   "metadata": {},
   "source": [
    "Play sweep."
   ]
  },
  {
   "cell_type": "code",
   "execution_count": null,
   "metadata": {},
   "outputs": [],
   "source": [
    "from IPython.display import Audio\n",
    "\n",
    "# Generate the audio player for the sweep signal\n",
    "# Audio(sweep, rate=fs)\n",
    "Audio(sweep_int, rate=fs)"
   ]
  },
  {
   "cell_type": "markdown",
   "metadata": {},
   "source": [
    "## Inverse ESS"
   ]
  },
  {
   "cell_type": "code",
   "execution_count": null,
   "metadata": {},
   "outputs": [],
   "source": [
    "# Inverse filter\n",
    "Inverse_filter_exp_scaling = np.exp(t / L)\n",
    "inverse_tapered_sweep = tapered_sweep[::-1]/Inverse_filter_exp_scaling"
   ]
  },
  {
   "cell_type": "markdown",
   "metadata": {},
   "source": [
    "## Example ESS deconvolution"
   ]
  },
  {
   "cell_type": "code",
   "execution_count": null,
   "metadata": {},
   "outputs": [],
   "source": [
    "import scipy.signal as sig\n",
    "ir = sig.fftconvolve(tapered_sweep, inverse_tapered_sweep, mode='same')"
   ]
  },
  {
   "cell_type": "code",
   "execution_count": null,
   "metadata": {},
   "outputs": [],
   "source": [
    "plt.figure()\n",
    "plt.subplot(3,1,1)\n",
    "plt.grid()\n",
    "plt.plot(t[:1000], tapered_sweep[:1000])\n",
    "plt.title('ESS')\n",
    "plt.subplot(3,1,2)\n",
    "plt.grid()\n",
    "plt.plot(t[:1000], inverse_tapered_sweep[:1000])\n",
    "plt.title('Inverse filter')\n",
    "plt.subplot(3,1,3)\n",
    "plt.grid()\n",
    "plt.plot(t, ir)\n",
    "plt.title('Impulse response')\n",
    "plt.show()"
   ]
  },
  {
   "cell_type": "markdown",
   "metadata": {},
   "source": [
    "## A perfect 10x ESS estimation"
   ]
  },
  {
   "cell_type": "code",
   "execution_count": null,
   "metadata": {},
   "outputs": [],
   "source": [
    "ir = sig.fftconvolve(sweep_times_10, inverse_tapered_sweep, mode='same')"
   ]
  },
  {
   "cell_type": "code",
   "execution_count": null,
   "metadata": {},
   "outputs": [],
   "source": [
    "# This is the error from those divisions from that weird implementation >:(\n",
    "t_guess=np.arange(len(t))/fs\n",
    "plt.plot(np.sqrt((t-t_guess)**2))\n",
    "plt.show()\n"
   ]
  },
  {
   "cell_type": "code",
   "execution_count": null,
   "metadata": {},
   "outputs": [],
   "source": [
    "plt.figure()\n",
    "plt.subplot(3,1,1)\n",
    "plt.grid()\n",
    "plt.plot(t[:1000], tapered_sweep[:1000])\n",
    "plt.title('ESS')\n",
    "plt.subplot(3,1,2)\n",
    "plt.grid()\n",
    "plt.plot(t[:1000], inverse_tapered_sweep[:1000])\n",
    "plt.title('Inverse filter')\n",
    "plt.subplot(3,1,3)\n",
    "plt.grid()\n",
    "plt.plot(np.arange(len(ir))/fs, ir)\n",
    "plt.title('Impulse response')\n",
    "plt.show()"
   ]
  }
 ],
 "metadata": {
  "kernelspec": {
   "display_name": "Python 3",
   "language": "python",
   "name": "python3"
  },
  "language_info": {
   "codemirror_mode": {
    "name": "ipython",
    "version": 3
   },
   "file_extension": ".py",
   "mimetype": "text/x-python",
   "name": "python",
   "nbconvert_exporter": "python",
   "pygments_lexer": "ipython3",
   "version": "3.9.19"
  }
 },
 "nbformat": 4,
 "nbformat_minor": 2
}
