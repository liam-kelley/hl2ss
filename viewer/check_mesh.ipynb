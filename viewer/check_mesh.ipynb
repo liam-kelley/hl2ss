{
 "cells": [
  {
   "cell_type": "code",
   "execution_count": 1,
   "metadata": {},
   "outputs": [
    {
     "name": "stdout",
     "output_type": "stream",
     "text": [
      "Jupyter environment detected. Enabling Open3D WebVisualizer.\n",
      "[Open3D INFO] WebRTC GUI backend enabled.\n",
      "[Open3D INFO] WebRTCWindowSystem: HTTP handshake server disabled.\n"
     ]
    }
   ],
   "source": [
    "import open3d as o3d\n",
    "import numpy as np\n",
    "import os"
   ]
  },
  {
   "cell_type": "code",
   "execution_count": 5,
   "metadata": {},
   "outputs": [],
   "source": [
    "# Define the paths to your saved numpy arrays\n",
    "vertices_path = os.path.join(\"vertices\", \"v_1724863873.1742935.npy\")  # Update with your file name\n",
    "triangles_path = os.path.join(\"triangles\", \"t_1724863873.1762938.npy\")  # Update with your file name\n",
    "normals_path = os.path.join(\"normals\", \"n_1724863873.1782925.npy\")  # Update with your file name\n",
    "\n",
    "# Load the numpy arrays\n",
    "vertices = np.load(vertices_path)\n",
    "triangles = np.load(triangles_path)\n",
    "normals = np.load(normals_path)\n",
    "\n",
    "# Create the mesh\n",
    "mesh = o3d.geometry.TriangleMesh()\n",
    "mesh.vertices = o3d.utility.Vector3dVector(vertices)\n",
    "mesh.triangles = o3d.utility.Vector3iVector(triangles)\n",
    "mesh.vertex_normals = o3d.utility.Vector3dVector(normals)\n",
    "mesh.vertex_colors = mesh.vertex_normals\n",
    "\n",
    "# Visualize the mesh\n",
    "o3d.visualization.draw_geometries([mesh], mesh_show_back_face=True)"
   ]
  }
 ],
 "metadata": {
  "kernelspec": {
   "display_name": "hl2ss",
   "language": "python",
   "name": "python3"
  },
  "language_info": {
   "codemirror_mode": {
    "name": "ipython",
    "version": 3
   },
   "file_extension": ".py",
   "mimetype": "text/x-python",
   "name": "python",
   "nbconvert_exporter": "python",
   "pygments_lexer": "ipython3",
   "version": "3.9.19"
  }
 },
 "nbformat": 4,
 "nbformat_minor": 2
}
