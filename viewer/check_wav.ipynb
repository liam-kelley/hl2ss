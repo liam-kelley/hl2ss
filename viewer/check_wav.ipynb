{
 "cells": [
  {
   "cell_type": "code",
   "execution_count": null,
   "metadata": {},
   "outputs": [],
   "source": [
    "# Import necessary libraries\n",
    "import librosa\n",
    "import librosa.display\n",
    "import numpy as np\n",
    "import matplotlib.pyplot as plt\n",
    "from scipy.io import wavfile"
   ]
  },
  {
   "cell_type": "code",
   "execution_count": null,
   "metadata": {},
   "outputs": [],
   "source": [
    "# Function to load and display basic information about the WAV file\n",
    "def load_wav_file(file_path):\n",
    "    # Load audio file using librosa\n",
    "    audio_data, sample_rate = librosa.load(file_path, sr=None)  # sr=None ensures original sample rate is used\n",
    "    print(f\"Sample rate: {sample_rate} Hz\")\n",
    "    print(f\"Audio duration: {librosa.get_duration(y=audio_data, sr=sample_rate)} seconds\")\n",
    "    print(f\"Number of samples: {len(audio_data)}\")\n",
    "    \n",
    "    return audio_data, sample_rate"
   ]
  },
  {
   "cell_type": "code",
   "execution_count": null,
   "metadata": {},
   "outputs": [],
   "source": [
    "# Function to plot waveform\n",
    "def plot_waveform(audio_data, sample_rate):\n",
    "    plt.figure(figsize=(14, 5))\n",
    "    librosa.display.waveshow(audio_data, sr=sample_rate)\n",
    "    plt.title(\"Waveform\")\n",
    "    plt.xlabel(\"Time (s)\")\n",
    "    plt.ylabel(\"Amplitude\")\n",
    "    plt.show()"
   ]
  },
  {
   "cell_type": "code",
   "execution_count": null,
   "metadata": {},
   "outputs": [],
   "source": [
    "# Function to plot spectrogram\n",
    "def plot_spectrogram(audio_data, sample_rate):\n",
    "    X = librosa.stft(audio_data)  # Perform Short-Time Fourier Transform (STFT)\n",
    "    X_db = librosa.amplitude_to_db(abs(X))  # Convert the amplitude to decibels\n",
    "    plt.figure(figsize=(14, 5))\n",
    "    librosa.display.specshow(X_db, sr=sample_rate, x_axis='time', y_axis='hz')\n",
    "    plt.colorbar(format='%+2.0f dB')\n",
    "    plt.title('Spectrogram')\n",
    "    plt.show()"
   ]
  },
  {
   "cell_type": "code",
   "execution_count": null,
   "metadata": {},
   "outputs": [],
   "source": [
    "# Function to analyze basic audio features\n",
    "def analyze_audio_features(audio_data, sample_rate):\n",
    "    # Calculate Zero-Crossing Rate\n",
    "    zcr = librosa.feature.zero_crossing_rate(audio_data)\n",
    "    print(f\"Mean Zero-Crossing Rate: {np.mean(zcr)}\")\n",
    "\n",
    "    # Calculate Spectral Centroid\n",
    "    spectral_centroid = librosa.feature.spectral_centroid(y=audio_data, sr=sample_rate)\n",
    "    print(f\"Mean Spectral Centroid: {np.mean(spectral_centroid)} Hz\")\n",
    "\n",
    "    # Calculate Spectral Bandwidth\n",
    "    spectral_bandwidth = librosa.feature.spectral_bandwidth(y=audio_data, sr=sample_rate)\n",
    "    print(f\"Mean Spectral Bandwidth: {np.mean(spectral_bandwidth)} Hz\")\n",
    "\n",
    "    # Calculate RMS (Root Mean Square) Energy\n",
    "    rms = librosa.feature.rms(y=audio_data)\n",
    "    print(f\"Mean RMS Energy: {np.mean(rms)}\")"
   ]
  },
  {
   "cell_type": "code",
   "execution_count": null,
   "metadata": {},
   "outputs": [],
   "source": [
    "# Example usage\n",
    "import os\n",
    "file_path = os.path.join(\"dataset\",\"LiamsOffice\",\"session_005\",\"time_1725023284\",\"audio\",\"BOTTOM_LEFT.wav\")\n",
    "audio_data, sample_rate = load_wav_file(file_path)"
   ]
  },
  {
   "cell_type": "code",
   "execution_count": null,
   "metadata": {},
   "outputs": [],
   "source": [
    "print(audio_data.max())\n",
    "plot_waveform(audio_data, sample_rate)\n"
   ]
  },
  {
   "cell_type": "code",
   "execution_count": null,
   "metadata": {},
   "outputs": [],
   "source": [
    "plot_spectrogram(audio_data, sample_rate)"
   ]
  },
  {
   "cell_type": "code",
   "execution_count": null,
   "metadata": {},
   "outputs": [],
   "source": [
    "analyze_audio_features(audio_data, sample_rate)"
   ]
  }
 ],
 "metadata": {
  "kernelspec": {
   "display_name": "hl2ss",
   "language": "python",
   "name": "python3"
  },
  "language_info": {
   "codemirror_mode": {
    "name": "ipython",
    "version": 3
   },
   "file_extension": ".py",
   "mimetype": "text/x-python",
   "name": "python",
   "nbconvert_exporter": "python",
   "pygments_lexer": "ipython3",
   "version": "3.9.19"
  }
 },
 "nbformat": 4,
 "nbformat_minor": 2
}
