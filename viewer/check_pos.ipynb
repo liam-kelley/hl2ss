{
 "cells": [
  {
   "cell_type": "code",
   "execution_count": null,
   "metadata": {},
   "outputs": [],
   "source": [
    "import matplotlib.pyplot as plt\n",
    "import os\n",
    "import numpy as np\n",
    "\n",
    "file_path = os.path.join(\"dataset\",\"LiamsOffice\",\"session_006\",\"time_1725028070\",\"position\",\"origin.npy\")\n",
    "\n",
    "origin = np.load(file_path)\n",
    "\n",
    "print(origin)\n",
    "\n",
    "plt.figure()\n",
    "plt.plot(origin[:,0], label=\"x\")\n",
    "plt.plot(origin[:,1], label=\"y\")\n",
    "plt.plot(origin[:,2], label=\"z\")\n",
    "plt.legend()\n"
   ]
  }
 ],
 "metadata": {
  "kernelspec": {
   "display_name": "hl2ss",
   "language": "python",
   "name": "python3"
  },
  "language_info": {
   "codemirror_mode": {
    "name": "ipython",
    "version": 3
   },
   "file_extension": ".py",
   "mimetype": "text/x-python",
   "name": "python",
   "nbconvert_exporter": "python",
   "pygments_lexer": "ipython3",
   "version": "3.9.19"
  }
 },
 "nbformat": 4,
 "nbformat_minor": 2
}
